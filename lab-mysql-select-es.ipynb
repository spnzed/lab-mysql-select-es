{
 "cells": [
  {
   "cell_type": "code",
   "execution_count": null,
   "metadata": {
    "vscode": {
     "languageId": "sql"
    }
   },
   "outputs": [],
   "source": [
    "USE PUBLICATIONS;"
   ]
  },
  {
   "cell_type": "markdown",
   "metadata": {},
   "source": [
    "### 1. ¿Quién ha publicado qué y dónde?\n",
    "En este desafío escribirás una consulta SELECT de MySQL que una varias tablas para descubrir qué títulos ha publicado cada autor en qué editoriales.\n"
   ]
  },
  {
   "cell_type": "code",
   "execution_count": null,
   "metadata": {
    "vscode": {
     "languageId": "sql"
    }
   },
   "outputs": [],
   "source": [
    "SELECT \n",
    "    T1.au_id AS 'AUTHOR ID',\n",
    "    T1.au_lname AS 'LAST NAME',\n",
    "    T1.au_fname AS 'FIRST NAME',\n",
    "    T3.title AS 'TITLE',\n",
    "    t4.pub_name AS 'PUBLISHER'\n",
    "FROM\n",
    "    authors AS T1\n",
    "        LEFT JOIN\n",
    "    titleauthor AS T2 ON T1.au_id = T2.au_id\n",
    "        LEFT JOIN\n",
    "    titles AS T3 ON T2.title_id = T3.title_id\n",
    "        LEFT JOIN\n",
    "    publishers AS T4 ON T3.pub_id = T4.pub_id\n",
    "WHERE\n",
    "    T3.title IS NOT NULL\n",
    "        AND T4.pub_name IS NOT NULL\n",
    "ORDER BY T1.au_id , T3.title DESC\n",
    ";"
   ]
  },
  {
   "cell_type": "markdown",
   "metadata": {},
   "source": [
    "### 2. ¿Quién ha publicado cuántos y dónde?\n",
    "Partiendo de tu solución en el Desafío 1, consulta cuántos títulos ha publicado cada autor en cada editorial."
   ]
  },
  {
   "cell_type": "code",
   "execution_count": null,
   "metadata": {
    "vscode": {
     "languageId": "sql"
    }
   },
   "outputs": [],
   "source": [
    "SELECT \n",
    "    T1.au_id AS 'AUTHOR ID',\n",
    "    T1.au_lname AS 'LAST NAME',\n",
    "    T1.au_fname AS 'FIRST NAME',\n",
    "    t4.pub_name AS 'PUBLISHER',\n",
    "    COUNT(T3.title) AS 'TITLE COUNT'    \n",
    "FROM\n",
    "    authors AS T1\n",
    "        LEFT JOIN\n",
    "    titleauthor AS T2 ON T1.au_id = T2.au_id\n",
    "        LEFT JOIN\n",
    "    titles AS T3 ON T2.title_id = T3.title_id\n",
    "        LEFT JOIN\n",
    "    publishers AS T4 ON T3.pub_id = T4.pub_id\n",
    "WHERE\n",
    "    T3.title IS NOT NULL\n",
    "        AND T4.pub_name IS NOT NULL\n",
    "GROUP BY T1.au_id, T1.au_lname, T1.au_fname, T4.pub_name\n",
    "ORDER BY T1.au_id desc, T4.pub_name DESC\n",
    ";"
   ]
  },
  {
   "cell_type": "markdown",
   "metadata": {},
   "source": [
    "### 3. Autores Más Vendidos\n",
    "\n",
    "¿Quiénes son los 3 principales autores que han vendido el mayor número de títulos? Escribe una consulta para averiguarlo."
   ]
  },
  {
   "cell_type": "code",
   "execution_count": null,
   "metadata": {
    "vscode": {
     "languageId": "sql"
    }
   },
   "outputs": [],
   "source": [
    "SELECT \n",
    "    T1.au_id AS 'AUTHOR ID',\n",
    "    T1.au_lname AS 'LAST NAME',\n",
    "    T1.au_fname AS 'FIRST NAME',\n",
    "    sum(T3.qty) AS 'TOTAL'    \n",
    "FROM\n",
    "    authors AS T1\n",
    "        LEFT JOIN\n",
    "    titleauthor AS T2 ON T1.au_id = T2.au_id\n",
    "\t\tLEFT JOIN\n",
    "\tsales AS T3 ON T3.title_id = T2.title_id\n",
    "\n",
    "WHERE T3.qty IS NOT NULL\n",
    "GROUP BY T1.au_id, T1.au_lname, T1.au_fname\n",
    "ORDER BY sum(T3.qty) desc\n",
    "LIMIT 3;"
   ]
  },
  {
   "cell_type": "markdown",
   "metadata": {},
   "source": [
    "### 4. Ranking de Autores Más Vendidos\n",
    "\n",
    "Ahora modifica tu solución en el Desafío 3 para que la salida muestre a todos los 23 autores en lugar de solo los 3 principales. \n",
    "\n",
    "\n",
    "Ten en cuenta que los autores que han vendido 0 títulos también deben aparecer en tu salida (idealmente muestra 0 en lugar de NULL como TOTAL). \n",
    "\n",
    "\n",
    "También ordena tus resultados basándose en TOTAL de mayor a menor."
   ]
  },
  {
   "cell_type": "code",
   "execution_count": null,
   "metadata": {
    "vscode": {
     "languageId": "sql"
    }
   },
   "outputs": [],
   "source": [
    "SELECT \n",
    "    T1.au_id AS 'AUTHOR ID',\n",
    "    T1.au_lname AS 'LAST NAME',\n",
    "    T1.au_fname AS 'FIRST NAME',\n",
    "    coalesce(sum(T3.qty),0) AS 'TOTAL'    \n",
    "FROM\n",
    "    authors AS T1\n",
    "        LEFT JOIN\n",
    "    titleauthor AS T2 ON T1.au_id = T2.au_id\n",
    "\t\tLEFT JOIN\n",
    "\tsales AS T3 ON T3.title_id = T2.title_id\n",
    "\n",
    "GROUP BY T1.au_id, T1.au_lname, T1.au_fname\n",
    "ORDER BY sum(T3.qty) desc\n",
    ";"
   ]
  }
 ],
 "metadata": {
  "kernelspec": {
   "display_name": "Python 3.12.4 64-bit",
   "language": "python",
   "name": "python3"
  },
  "language_info": {
   "name": "python",
   "version": "3.12.4"
  },
  "orig_nbformat": 4,
  "vscode": {
   "interpreter": {
    "hash": "b0fa6594d8f4cbf19f97940f81e996739fb7646882a419484c72d19e05852a7e"
   }
  }
 },
 "nbformat": 4,
 "nbformat_minor": 2
}
